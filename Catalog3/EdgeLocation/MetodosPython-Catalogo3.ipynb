{
 "cells": [
  {
   "cell_type": "code",
   "execution_count": 40,
   "id": "b510da59-6f82-43c0-963f-0eb07b450696",
   "metadata": {},
   "outputs": [
    {
     "data": {
      "image/png": "[encoded data removed]",
      "text/plain": [
       "<Figure size 432x288 with 2 Axes>"
      ]
     },
     "metadata": {
      "needs_background": "light"
     },
     "output_type": "display_data"
    }
   ],
   "source": [
    "import cv2\n",
    "import numpy as np\n",
    "import matplotlib.pyplot as plt\n",
    " \n",
    "img_original = cv2.imread('linea3.jpg')\n",
    "img = cv2.imread('linea3.jpg')\n",
    "gray = cv2.cvtColor(img,cv2.COLOR_BGR2GRAY)\n",
    "edges = cv2.Canny(gray,50,150,apertureSize = 3)\n",
    " \n",
    "lines = cv2.HoughLines(edges,1,np.pi/180,75)\n",
    "for x in lines:\n",
    "    for rho,theta in x:\n",
    "        a = np.cos(theta)\n",
    "        b = np.sin(theta)\n",
    "        x0 = a*rho\n",
    "        y0 = b*rho\n",
    "        x1 = int(x0 + 1000*(-b))\n",
    "        y1 = int(y0 + 1000*(a))\n",
    "        x2 = int(x0 - 1000*(-b))\n",
    "        y2 = int(y0 - 1000*(a))\n",
    "\n",
    "        cv2.line(img,(x1,y1),(x2,y2),(255,0,0),1)\n",
    "\n",
    "fig=plt.figure()\n",
    "\n",
    "subplot1=fig.add_subplot(1,2,1)\n",
    "subplot1.imshow(img_original,cmap='gray',vmin=0,vmax=255)\n",
    "subplot1.title.set_text('Imagen Original')\n",
    "\n",
    "subplot2=fig.add_subplot(1,2,2)\n",
    "subplot2.imshow(img,cmap='gray',vmin=0,vmax=255)\n",
    "subplot2.title.set_text('Transformada de Hough para líneas')\n"
   ]
  },
  {
   "cell_type": "code",
   "execution_count": null,
   "id": "b69962f8-5dcf-47f8-bd56-a67e513fc58b",
   "metadata": {},
   "outputs": [],
   "source": []
  }
 ],
 "metadata": {
  "kernelspec": {
   "display_name": "Python 3 (ipykernel)",
   "language": "python",
   "name": "python3"
  },
  "language_info": {
   "codemirror_mode": {
    "name": "ipython",
    "version": 3
   },
   "file_extension": ".py",
   "mimetype": "text/x-python",
   "name": "python",
   "nbconvert_exporter": "python",
   "pygments_lexer": "ipython3",
   "version": "3.9.7"
  }
 },
 "nbformat": 4,
 "nbformat_minor": 5
}
